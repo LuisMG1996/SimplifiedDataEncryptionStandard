{
 "cells": [
  {
   "cell_type": "markdown",
   "metadata": {},
   "source": [
    "# ENHANCED S-DES ALGORITHM\n"
   ]
  },
  {
   "cell_type": "markdown",
   "metadata": {},
   "source": [
    "<h2 style='background-color:yellow';>Key Generation</h2>"
   ]
  },
  {
   "cell_type": "code",
   "execution_count": 4,
   "metadata": {},
   "outputs": [
    {
     "name": "stdout",
     "output_type": "stream",
     "text": [
      "[1, 0, 1, 0, 0, 1, 0, 0]\n",
      "[0, 1, 0, 0, 0, 0, 1, 1]\n"
     ]
    }
   ],
   "source": [
    "def p10(data):\n",
    "    res = []\n",
    "    index = [3, 5, 2, 7, 4, 10, 1, 9, 8, 6]\n",
    "    for j in index:\n",
    "        res.append(data[j-1])\n",
    "    return res\n",
    "#End p10 function\n",
    "#----------------------------  \n",
    "#function to switch an array n times to the left\n",
    "def leftSwitch(data,n):\n",
    "    return data[n % len(data):] + data[:n % len(data)]\n",
    "#End leftSwitch function\n",
    "#----------------------------  \n",
    "def p8(data):\n",
    "    res = []\n",
    "    index = [6, 3, 7, 4, 8, 5, 10, 9]\n",
    "    for j in index:\n",
    "        res.append(data[j-1])\n",
    "    return res\n",
    "#End p8 function\n",
    "#----------------------------  \n",
    "def keyGeneration(originalData):\n",
    "    \n",
    "    #P10 step is applied to data\n",
    "    data = p10(originalData)\n",
    "    \n",
    "    #after P10 the resulting data is splited in two subarrays \n",
    "    #each array is switched one time to left in order to get LS-1\n",
    "    leftSide = leftSwitch(data[:5],1)\n",
    "    rightSide = leftSwitch(data[5:],1)\n",
    "    \n",
    "    #Resulting arrays needs to be concatenate in order to apply them P8 ang get K1\n",
    "    data = leftSide + rightSide\n",
    "    k1 = p8(data)\n",
    "    \n",
    "    #The first two halfs needs to be switched again in order to aplly again P8 and return K2\n",
    "    leftSide = leftSwitch(leftSide,2)\n",
    "    rightSide = leftSwitch(rightSide,2)\n",
    "    \n",
    "    #The p8 is applied to the join of both halfs\n",
    "    k2 = p8(leftSide+rightSide)\n",
    "    #Finally return k1 and k2\n",
    "    return [k1,k2]\n",
    "#End keyGeneration function    \n",
    "#----------------------------   \n",
    "keys = keyGeneration(\"1010000010\")\n",
    "\n",
    "k1 = list( map(int, keys[0] ) ) \n",
    "k2 = list( map(int, keys[1] ) )\n",
    "\n",
    "#--\n",
    "#k1 = [1,0,1,0,0,1,0,0]\n",
    "#k2 = [0,1,0,0,0,0,1,1]\n",
    "#---\n",
    "\n",
    "print(k1)\n",
    "print(k2)"
   ]
  },
  {
   "cell_type": "markdown",
   "metadata": {},
   "source": [
    "<h2 style='background-color:yellow';>Encryption</h2>"
   ]
  },
  {
   "cell_type": "code",
   "execution_count": 6,
   "metadata": {},
   "outputs": [],
   "source": [
    "#ColumnTransposition\n",
    "def columnTransposition(columnOrder,plainText):\n",
    "    \n",
    "    cipherText = [-1,-1,-1,-1,-1,-1,-1,-1]\n",
    "    \n",
    "    if( (len(plainText) !=  8) or (len(columnOrder) != 4) ):\n",
    "    \n",
    "        print(\"Plain text input must have only 8 bits\")\n",
    "        print(\"Number of columns must be only 4 numbers from [0-3]\")\n",
    "        \n",
    "    #End if\n",
    "    else:\n",
    "        #Row 1\n",
    "        cipherText[0] = plainText[columnOrder[0]]\n",
    "        cipherText[4] = plainText[columnOrder[0]+4]\n",
    "        \n",
    "        #Row 2\n",
    "        cipherText[1] = plainText[columnOrder[1]]\n",
    "        cipherText[5] = plainText[columnOrder[1]+4]\n",
    "        \n",
    "        #Row 3\n",
    "        cipherText[2] = plainText[columnOrder[2]]\n",
    "        cipherText[6] = plainText[columnOrder[2]+4]\n",
    "        \n",
    "        #Row 4\n",
    "        cipherText[3] = plainText[columnOrder[3]]\n",
    "        cipherText[7] = plainText[columnOrder[3]+4]\n",
    "        \n",
    "    #End else\n",
    "    \n",
    "    return cipherText\n",
    "    \n",
    "#End columnTransposition function\n",
    "#----------------------------  \n",
    "#Shift row version for 8 elements:\n",
    "#Row 1 and 4 are not modified\n",
    "#Row 2 and 3 each element are moved one element to the right\n",
    "def shiftRow(bits):\n",
    "\n",
    "    \n",
    "    if(len(bits) == 8):\n",
    "\n",
    "        #Shif To right second row (swap)\n",
    "        tempBit = bits[2]\n",
    "        bits[2] = bits[3]\n",
    "        bits[3] = tempBit\n",
    "        \n",
    "        #Shift to right third row (swap)\n",
    "        tempBit = bits[4]\n",
    "        bits[4] = bits[5]\n",
    "        bits[5] = tempBit\n",
    "        \n",
    "    #End if\n",
    "    else:\n",
    "        print(\"Shift not performed because the input must have a length of 8 bits!\")\n",
    "    #End else    \n",
    "    \n",
    "    return bits\n",
    "    \n",
    "#End shiftRow function    \n",
    "#---------------------------- \n",
    "#Inverse operation of shiftRow\n",
    "def InverseShiftRow(bits):\n",
    "\n",
    "    \n",
    "    if(len(bits) == 8):\n",
    "\n",
    "        #Shif To right second row (swap)\n",
    "        tempBit = bits[3]\n",
    "        bits[3] = bits[2]\n",
    "        bits[2] = tempBit\n",
    "        \n",
    "        #Shift to right third row (swap)\n",
    "        tempBit = bits[5]\n",
    "        bits[5] = bits[4]\n",
    "        bits[4] = tempBit\n",
    "        \n",
    "    #End if\n",
    "    else:\n",
    "        print(\"Inverse shift not performed because the input must have a length of 8 bits!\")\n",
    "    #End else    \n",
    "    \n",
    "    return bits\n",
    "    \n",
    "#End shiftRow function    \n",
    "#----------------------------\n",
    "#Initial Permutation function\n",
    "def IP(plainText):\n",
    "    indexes = [2, 6, 3, 1, 4, 8, 5, 7]\n",
    "    permutated = []\n",
    "    for index in indexes:\n",
    "        permutated.append(plaintext[index-1])\n",
    "    return permutated\n",
    "    \n",
    "#End Initial permutation function\n",
    "#---------------------------- \n",
    "#Inverse Initial Permutation function\n",
    "def InverseIP(plainText):\n",
    "    indexes = [4, 1, 3, 5, 7, 2, 8, 6]\n",
    "    permutated = []\n",
    "    for index in indexes:\n",
    "        permutated.append(plainText[index-1])    \n",
    "    return permutated\n",
    "#End Initial permutation function\n",
    "#----------------------------   \n",
    "#Sbox 0 substitution\n",
    "def sboxZero(oub1,oub2,inb1,inb2):\n",
    "    output = -1\n",
    "    \n",
    "    #Take ints as bits to know which integer represent\n",
    "    row = int( \"\".join( map( str, ([oub1]+[oub2]) ) ) ,2)\n",
    "    col = int( \"\".join( map( str, ([inb1]+[inb2]) ) ) ,2)\n",
    "    \n",
    "    s0 = [ [1,0,3,2], \n",
    "           [3,2,1,0], \n",
    "           [0,2,1,3],\n",
    "           [3,1,3,2] ]\n",
    "    \n",
    "    output = s0[row][col]\n",
    "    \n",
    "    #-------\n",
    "    print(\"S0[\",row,\"][\",col,\"]:\",output)\n",
    "    #-------\n",
    "    \n",
    "    return output\n",
    "#End function sboxZero\n",
    "#----------------------------   \n",
    "#Sbox 1 substitution\n",
    "def sboxOne(oub1,oub2,inb1,inb2):\n",
    "    output = -1\n",
    "    \n",
    "    #Take ints as bits to know which integer represent\n",
    "    row = int( \"\".join( map( str, ([oub1]+[oub2]) ) ) ,2)\n",
    "    col = int( \"\".join( map( str, ([inb1]+[inb2]) ) ) ,2)\n",
    "    \n",
    "    s1 = [ [0,1,2,3], \n",
    "           [2,0,1,3], \n",
    "           [3,0,1,0],\n",
    "           [2,1,0,3] ]\n",
    "    \n",
    "    output = s1[row][col]\n",
    "    \n",
    "    #-------\n",
    "    print(\"S1[\",row,\"][\",col,\"]:\",output)\n",
    "    #-------\n",
    "    \n",
    "    return output\n",
    "#End function sboxOne\n",
    "#----------------------------  \n",
    "def xor(list1,list2):\n",
    "    \n",
    "    result = []\n",
    "    \n",
    "    for i in range( len(list1) ):\n",
    "        xorResult = list1[i] ^ list2[i]\n",
    "        #---\n",
    "        print(i,\") \",list1[i],\" xor \",list2[i],\"=\",xorResult)\n",
    "        #----\n",
    "        result.append( xorResult )\n",
    "    #end for 1   \n",
    "    \n",
    "    #-----\n",
    "    print(\"\")\n",
    "    print(\"E[r] XOR sk = \",result)\n",
    "    print(\"\")\n",
    "    #------\n",
    "    \n",
    "    return result\n",
    "#End function xor\n",
    "#----------------------------   \n",
    "#Function that involves permutation and substitution operations.\n",
    "#Permutation: Switch the 2 halves of data\n",
    "#Substitution: \n",
    "def Ffunction(r,skey):\n",
    "    \n",
    "    result = []\n",
    "    p4result = []\n",
    "    \n",
    "    #----- F(R,sk): ------\n",
    "    #1) Expansion of r\n",
    "    expandedr = r\n",
    "    #Last element r put at begining of actual list expandedr\n",
    "    expandedr = [r[3]] + expandedr\n",
    "    expandedr[4] = r[1]\n",
    "    expandedr.append(r[2])\n",
    "    expandedr.append(r[3])\n",
    "    expandedr.append(r[0])\n",
    "    \n",
    "    #-------\n",
    "    print(\"r:\")\n",
    "    print(r)\n",
    "    print(\"Expanded r:\")\n",
    "    print(expandedr)\n",
    "    print(\"\")\n",
    "    #-------\n",
    "    \n",
    "    #2)Exclusive or between 1) and sk\n",
    "    result = xor(expandedr,skey)\n",
    "    \n",
    "    #3)S-boxes substitution\n",
    "    s0 = sboxZero(result[0],result[3],result[1],result[2])\n",
    "    s1 = sboxOne(result[4],result[7],result[5],result[6])\n",
    "    \n",
    "    #3.1) Convert integers of 3) to binary representation in form of strings and using a minimum of 2 bits to represnet each #\n",
    "    s0str = bin(s0)[2:].zfill(2)\n",
    "    s1str = bin(s1)[2:].zfill(2)\n",
    "    \n",
    "    #3.2) Convert string representation of 3.1) to list of strings\n",
    "    s0list = list(s0str) \n",
    "    s1list = list(s1str)\n",
    "    \n",
    "    #-------\n",
    "    print(\"\")\n",
    "    print(\"S0:\",s0list,\" S1:\",s1list)\n",
    "    #-------\n",
    "    \n",
    "    #4) Given results of s0 and s1 aply permutation 4 to obtain 4bits result\n",
    "    p4result.append( s0list[1] )\n",
    "    p4result.append( s1list[1] )\n",
    "    p4result.append( s1list[0] )\n",
    "    p4result.append( s0list[0] )\n",
    "    \n",
    "    #Extra: Convert each string element in p4result to integer to return a list of integers\n",
    "    p4result = list( map(int, p4result) )\n",
    "    \n",
    "    return p4result\n",
    "    \n",
    "#End complexFunction\n",
    "#---------------------------- "
   ]
  },
  {
   "cell_type": "markdown",
   "metadata": {},
   "source": [
    "<p>Input Plain text of 8 bits of length</p>"
   ]
  },
  {
   "cell_type": "code",
   "execution_count": 3,
   "metadata": {},
   "outputs": [],
   "source": [
    "inputPlainText = [0,1,0,0,1,1,0,0]"
   ]
  },
  {
   "cell_type": "markdown",
   "metadata": {},
   "source": [
    "<h2>1) Column transposition</h2>"
   ]
  },
  {
   "cell_type": "code",
   "execution_count": 4,
   "metadata": {},
   "outputs": [
    {
     "name": "stdout",
     "output_type": "stream",
     "text": [
      "[0, 1, 0, 0, 0, 1, 0, 1]\n"
     ]
    }
   ],
   "source": [
    "curentInput = columnTransposition([3,1,2,0], inputPlainText)\n",
    "print(curentInput)"
   ]
  },
  {
   "cell_type": "markdown",
   "metadata": {},
   "source": [
    "<h2>2) Shift rows</h2>"
   ]
  },
  {
   "cell_type": "code",
   "execution_count": 5,
   "metadata": {},
   "outputs": [
    {
     "name": "stdout",
     "output_type": "stream",
     "text": [
      "[0, 1, 0, 0, 1, 0, 0, 1]\n"
     ]
    }
   ],
   "source": [
    "curentInput = shiftRow(curentInput)\n",
    "print(curentInput)"
   ]
  },
  {
   "cell_type": "markdown",
   "metadata": {},
   "source": [
    "<h2>3) Initial permutation</h2>"
   ]
  },
  {
   "cell_type": "code",
   "execution_count": 6,
   "metadata": {},
   "outputs": [
    {
     "name": "stdout",
     "output_type": "stream",
     "text": [
      "[1, 0, 0, 0, 0, 1, 1, 0]\n",
      "L: [1, 0, 0, 0]\n",
      "R: [0, 1, 1, 0]\n"
     ]
    }
   ],
   "source": [
    "curentInput = IP(curentInput)\n",
    "print(curentInput)\n",
    "L = curentInput[0:4]\n",
    "R = curentInput[4:8]\n",
    "print(\"L:\",L)\n",
    "print(\"R:\",R)"
   ]
  },
  {
   "cell_type": "markdown",
   "metadata": {},
   "source": [
    "<h2>fk1</h2>"
   ]
  },
  {
   "cell_type": "markdown",
   "metadata": {},
   "source": [
    "<p>4) F function(R,SK)</p>"
   ]
  },
  {
   "cell_type": "code",
   "execution_count": 7,
   "metadata": {},
   "outputs": [
    {
     "name": "stdout",
     "output_type": "stream",
     "text": [
      "r:\n",
      "[0, 1, 1, 0]\n",
      "Expanded r:\n",
      "[0, 0, 1, 1, 1, 1, 0, 0]\n",
      "\n",
      "0 )  0  xor  1 = 1\n",
      "1 )  0  xor  1 = 1\n",
      "2 )  1  xor  1 = 0\n",
      "3 )  1  xor  0 = 1\n",
      "4 )  1  xor  0 = 1\n",
      "5 )  1  xor  1 = 0\n",
      "6 )  0  xor  0 = 0\n",
      "7 )  0  xor  0 = 0\n",
      "\n",
      "E[r] XOR sk =  [1, 1, 0, 1, 1, 0, 0, 0]\n",
      "\n",
      "S0[ 3 ][ 2 ]: 3\n",
      "S1[ 2 ][ 0 ]: 3\n",
      "\n",
      "S0: ['1', '1']  S1: ['1', '1']\n",
      "[1, 1, 1, 1]\n"
     ]
    }
   ],
   "source": [
    "F = Ffunction(R, k1)\n",
    "print(F)"
   ]
  },
  {
   "cell_type": "markdown",
   "metadata": {},
   "source": [
    "5) L = L  XOR  [F function(R,SK)]"
   ]
  },
  {
   "cell_type": "code",
   "execution_count": 8,
   "metadata": {},
   "outputs": [
    {
     "name": "stdout",
     "output_type": "stream",
     "text": [
      "0 )  1  xor  1 = 0\n",
      "1 )  0  xor  1 = 1\n",
      "2 )  0  xor  1 = 1\n",
      "3 )  0  xor  1 = 1\n",
      "\n",
      "E[r] XOR sk =  [0, 1, 1, 1]\n",
      "\n"
     ]
    }
   ],
   "source": [
    "newL = xor(L,F)"
   ]
  },
  {
   "cell_type": "markdown",
   "metadata": {},
   "source": [
    "6) f k = concatenation(L,R)"
   ]
  },
  {
   "cell_type": "code",
   "execution_count": 9,
   "metadata": {},
   "outputs": [
    {
     "name": "stdout",
     "output_type": "stream",
     "text": [
      "fk= [0, 1, 1, 1, 0, 1, 1, 0]\n"
     ]
    }
   ],
   "source": [
    "fk = newL+R\n",
    "print(\"fk=\",fk)"
   ]
  },
  {
   "cell_type": "markdown",
   "metadata": {},
   "source": [
    "<h2>7)SWAP function</h2>"
   ]
  },
  {
   "cell_type": "code",
   "execution_count": 10,
   "metadata": {},
   "outputs": [
    {
     "name": "stdout",
     "output_type": "stream",
     "text": [
      "sw: [0, 1, 1, 0, 0, 1, 1, 1]\n",
      "L2: [0, 1, 1, 0]\n",
      "R2: [0, 1, 1, 1]\n"
     ]
    }
   ],
   "source": [
    "sw = fk[4:8] + fk[0:4]\n",
    "print(\"sw:\",sw)\n",
    "\n",
    "L2 = sw[0:4]\n",
    "R2 = sw[4:8]\n",
    "print(\"L2:\",L2)\n",
    "print(\"R2:\",R2)"
   ]
  },
  {
   "cell_type": "markdown",
   "metadata": {},
   "source": [
    "<h2>fk2</h2>"
   ]
  },
  {
   "cell_type": "markdown",
   "metadata": {},
   "source": [
    "<p>4.2) F function(R,SK)</p>"
   ]
  },
  {
   "cell_type": "code",
   "execution_count": 11,
   "metadata": {},
   "outputs": [
    {
     "name": "stdout",
     "output_type": "stream",
     "text": [
      "r:\n",
      "[0, 1, 1, 1]\n",
      "Expanded r:\n",
      "[1, 0, 1, 1, 1, 1, 1, 0]\n",
      "\n",
      "0 )  1  xor  0 = 1\n",
      "1 )  0  xor  1 = 1\n",
      "2 )  1  xor  0 = 1\n",
      "3 )  1  xor  1 = 0\n",
      "4 )  1  xor  0 = 1\n",
      "5 )  1  xor  0 = 1\n",
      "6 )  1  xor  1 = 0\n",
      "7 )  0  xor  1 = 1\n",
      "\n",
      "E[r] XOR sk =  [1, 1, 1, 0, 1, 1, 0, 1]\n",
      "\n",
      "S0[ 2 ][ 3 ]: 3\n",
      "S1[ 3 ][ 2 ]: 0\n",
      "\n",
      "S0: ['1', '1']  S1: ['0', '0']\n",
      "[1, 0, 0, 1]\n"
     ]
    }
   ],
   "source": [
    "F2 = Ffunction(R2, k2)\n",
    "print(F2)"
   ]
  },
  {
   "cell_type": "markdown",
   "metadata": {},
   "source": [
    "5.2) L = L  XOR  [F function(R,SK)]"
   ]
  },
  {
   "cell_type": "code",
   "execution_count": 12,
   "metadata": {},
   "outputs": [
    {
     "name": "stdout",
     "output_type": "stream",
     "text": [
      "0 )  0  xor  1 = 1\n",
      "1 )  1  xor  0 = 1\n",
      "2 )  1  xor  0 = 1\n",
      "3 )  0  xor  1 = 1\n",
      "\n",
      "E[r] XOR sk =  [1, 1, 1, 1]\n",
      "\n"
     ]
    }
   ],
   "source": [
    "newL2 = xor(L2,F2)"
   ]
  },
  {
   "cell_type": "markdown",
   "metadata": {},
   "source": [
    "6.2) f k = concatenation(L,R)"
   ]
  },
  {
   "cell_type": "code",
   "execution_count": 13,
   "metadata": {},
   "outputs": [
    {
     "name": "stdout",
     "output_type": "stream",
     "text": [
      "fk2= [1, 1, 1, 1, 0, 1, 1, 1]\n"
     ]
    }
   ],
   "source": [
    "fk2 = newL2+R2\n",
    "print(\"fk2=\",fk2)"
   ]
  },
  {
   "cell_type": "markdown",
   "metadata": {},
   "source": [
    "<h2>8) Inverse permutation</h2>"
   ]
  },
  {
   "cell_type": "code",
   "execution_count": 14,
   "metadata": {},
   "outputs": [
    {
     "name": "stdout",
     "output_type": "stream",
     "text": [
      "CIPHER TEXT:  [1, 1, 1, 0, 1, 1, 1, 1]\n"
     ]
    }
   ],
   "source": [
    "cipher = InverseIP(fk2)\n",
    "print(\"CIPHER TEXT: \",cipher)"
   ]
  },
  {
   "cell_type": "markdown",
   "metadata": {},
   "source": [
    "<h2 style='background-color:yellow';>Decryption</h2>"
   ]
  },
  {
   "cell_type": "markdown",
   "metadata": {},
   "source": [
    "<h2>1) Initial permutation</h2>"
   ]
  },
  {
   "cell_type": "code",
   "execution_count": 15,
   "metadata": {},
   "outputs": [
    {
     "name": "stdout",
     "output_type": "stream",
     "text": [
      "[1, 1, 1, 1, 0, 1, 1, 1]\n",
      "L: [1, 1, 1, 1]\n",
      "R: [0, 1, 1, 1]\n"
     ]
    }
   ],
   "source": [
    "initP = IP(cipher)\n",
    "print(initP)\n",
    "L = initP[0:4]\n",
    "R = initP[4:8]\n",
    "print(\"L:\",L)\n",
    "print(\"R:\",R)"
   ]
  },
  {
   "cell_type": "markdown",
   "metadata": {},
   "source": [
    "<h2>2) fk2</h2>"
   ]
  },
  {
   "cell_type": "code",
   "execution_count": 16,
   "metadata": {},
   "outputs": [
    {
     "name": "stdout",
     "output_type": "stream",
     "text": [
      "r:\n",
      "[0, 1, 1, 1]\n",
      "Expanded r:\n",
      "[1, 0, 1, 1, 1, 1, 1, 0]\n",
      "\n",
      "0 )  1  xor  0 = 1\n",
      "1 )  0  xor  1 = 1\n",
      "2 )  1  xor  0 = 1\n",
      "3 )  1  xor  1 = 0\n",
      "4 )  1  xor  0 = 1\n",
      "5 )  1  xor  0 = 1\n",
      "6 )  1  xor  1 = 0\n",
      "7 )  0  xor  1 = 1\n",
      "\n",
      "E[r] XOR sk =  [1, 1, 1, 0, 1, 1, 0, 1]\n",
      "\n",
      "S0[ 2 ][ 3 ]: 3\n",
      "S1[ 3 ][ 2 ]: 0\n",
      "\n",
      "S0: ['1', '1']  S1: ['0', '0']\n"
     ]
    }
   ],
   "source": [
    "F = Ffunction(R, k2)"
   ]
  },
  {
   "cell_type": "markdown",
   "metadata": {},
   "source": [
    "3) L = L  XOR  [F function(R,SK)]"
   ]
  },
  {
   "cell_type": "code",
   "execution_count": 17,
   "metadata": {},
   "outputs": [
    {
     "name": "stdout",
     "output_type": "stream",
     "text": [
      "0 )  1  xor  1 = 0\n",
      "1 )  1  xor  0 = 1\n",
      "2 )  1  xor  0 = 1\n",
      "3 )  1  xor  1 = 0\n",
      "\n",
      "E[r] XOR sk =  [0, 1, 1, 0]\n",
      "\n"
     ]
    }
   ],
   "source": [
    "newL = xor(L,F)"
   ]
  },
  {
   "cell_type": "markdown",
   "metadata": {},
   "source": [
    "4) f k = concatenation(L,R)"
   ]
  },
  {
   "cell_type": "code",
   "execution_count": 18,
   "metadata": {},
   "outputs": [
    {
     "name": "stdout",
     "output_type": "stream",
     "text": [
      "fk= [0, 1, 1, 0, 0, 1, 1, 1]\n"
     ]
    }
   ],
   "source": [
    "fk = newL+R\n",
    "print(\"fk=\",fk)"
   ]
  },
  {
   "cell_type": "markdown",
   "metadata": {},
   "source": [
    "<h2>5) SWAP function</h2>"
   ]
  },
  {
   "cell_type": "code",
   "execution_count": 19,
   "metadata": {},
   "outputs": [
    {
     "name": "stdout",
     "output_type": "stream",
     "text": [
      "sw: [0, 1, 1, 1, 0, 1, 1, 0]\n",
      "L2: [0, 1, 1, 1]\n",
      "R2: [0, 1, 1, 0]\n"
     ]
    }
   ],
   "source": [
    "sw = fk[4:8] + fk[0:4]\n",
    "print(\"sw:\",sw)\n",
    "\n",
    "L2 = sw[0:4]\n",
    "R2 = sw[4:8]\n",
    "print(\"L2:\",L2)\n",
    "print(\"R2:\",R2)"
   ]
  },
  {
   "cell_type": "markdown",
   "metadata": {},
   "source": [
    "<h2>fk1</h2>"
   ]
  },
  {
   "cell_type": "code",
   "execution_count": 20,
   "metadata": {},
   "outputs": [
    {
     "name": "stdout",
     "output_type": "stream",
     "text": [
      "r:\n",
      "[0, 1, 1, 0]\n",
      "Expanded r:\n",
      "[0, 0, 1, 1, 1, 1, 0, 0]\n",
      "\n",
      "0 )  0  xor  1 = 1\n",
      "1 )  0  xor  1 = 1\n",
      "2 )  1  xor  1 = 0\n",
      "3 )  1  xor  0 = 1\n",
      "4 )  1  xor  0 = 1\n",
      "5 )  1  xor  1 = 0\n",
      "6 )  0  xor  0 = 0\n",
      "7 )  0  xor  0 = 0\n",
      "\n",
      "E[r] XOR sk =  [1, 1, 0, 1, 1, 0, 0, 0]\n",
      "\n",
      "S0[ 3 ][ 2 ]: 3\n",
      "S1[ 2 ][ 0 ]: 3\n",
      "\n",
      "S0: ['1', '1']  S1: ['1', '1']\n",
      "[1, 1, 1, 1]\n"
     ]
    }
   ],
   "source": [
    "F2 = Ffunction(R2, k1)\n",
    "print(F2)\n",
    "\n"
   ]
  },
  {
   "cell_type": "markdown",
   "metadata": {},
   "source": [
    "5.2) L = L  XOR  [F function(R,SK)]"
   ]
  },
  {
   "cell_type": "code",
   "execution_count": 21,
   "metadata": {},
   "outputs": [
    {
     "name": "stdout",
     "output_type": "stream",
     "text": [
      "0 )  0  xor  1 = 1\n",
      "1 )  1  xor  1 = 0\n",
      "2 )  1  xor  1 = 0\n",
      "3 )  1  xor  1 = 0\n",
      "\n",
      "E[r] XOR sk =  [1, 0, 0, 0]\n",
      "\n"
     ]
    }
   ],
   "source": [
    "newL2 = xor(L2,F2)"
   ]
  },
  {
   "cell_type": "markdown",
   "metadata": {},
   "source": [
    "6.2) f k = concatenation(L,R)"
   ]
  },
  {
   "cell_type": "code",
   "execution_count": 22,
   "metadata": {},
   "outputs": [
    {
     "name": "stdout",
     "output_type": "stream",
     "text": [
      "fk2= [1, 0, 0, 0, 0, 1, 1, 0]\n"
     ]
    }
   ],
   "source": [
    "fk2 = newL2+R2\n",
    "print(\"fk2=\",fk2)"
   ]
  },
  {
   "cell_type": "markdown",
   "metadata": {},
   "source": [
    "<h2>3) Inverse initial permutation</h2>"
   ]
  },
  {
   "cell_type": "code",
   "execution_count": 23,
   "metadata": {},
   "outputs": [
    {
     "name": "stdout",
     "output_type": "stream",
     "text": [
      "[0, 1, 0, 0, 1, 0, 0, 1]\n"
     ]
    }
   ],
   "source": [
    "curentOutput = InverseIP(fk2)\n",
    "print(curentOutput)\n",
    "#Lo = curentOutput[0:4]\n",
    "#Ro = curentOutput[4:8]\n",
    "#print(\"L:\",Lo)\n",
    "#print(\"R:\",Ro)"
   ]
  },
  {
   "cell_type": "markdown",
   "metadata": {},
   "source": [
    "<h2>2) Inverse Shift rows</h2>"
   ]
  },
  {
   "cell_type": "code",
   "execution_count": 24,
   "metadata": {},
   "outputs": [
    {
     "name": "stdout",
     "output_type": "stream",
     "text": [
      "[0, 1, 0, 0, 0, 1, 0, 1]\n"
     ]
    }
   ],
   "source": [
    "curentOutput = InverseShiftRow(curentOutput)\n",
    "print(curentOutput)"
   ]
  },
  {
   "cell_type": "markdown",
   "metadata": {},
   "source": [
    "<h2>1) Column transposition</h2>"
   ]
  },
  {
   "cell_type": "code",
   "execution_count": 25,
   "metadata": {},
   "outputs": [
    {
     "name": "stdout",
     "output_type": "stream",
     "text": [
      "[0, 1, 0, 0, 1, 1, 0, 0]\n"
     ]
    }
   ],
   "source": [
    "curentOutput = columnTransposition([3,1,2,0], curentOutput)\n",
    "print(curentOutput)"
   ]
  },
  {
   "cell_type": "markdown",
   "metadata": {},
   "source": [
    "<h2 style='background-color:yellow';>Result of encryption and decryption</h2>"
   ]
  },
  {
   "cell_type": "code",
   "execution_count": 26,
   "metadata": {},
   "outputs": [
    {
     "name": "stdout",
     "output_type": "stream",
     "text": [
      "Cipher text: [1, 1, 1, 0, 1, 1, 1, 1]\n",
      "is the correct cipher of: [0, 1, 0, 0, 1, 1, 0, 0]\n"
     ]
    }
   ],
   "source": [
    "if(inputPlainText == curentOutput):\n",
    "\n",
    "    print(\"Cipher text:\", cipher)\n",
    "    print(\"is the correct cipher of:\", inputPlainText)\n",
    "#End if"
   ]
  }
 ],
 "metadata": {
  "kernelspec": {
   "display_name": "Python 3",
   "language": "python",
   "name": "python3"
  },
  "language_info": {
   "codemirror_mode": {
    "name": "ipython",
    "version": 3
   },
   "file_extension": ".py",
   "mimetype": "text/x-python",
   "name": "python",
   "nbconvert_exporter": "python",
   "pygments_lexer": "ipython3",
   "version": "3.7.1"
  }
 },
 "nbformat": 4,
 "nbformat_minor": 2
}
