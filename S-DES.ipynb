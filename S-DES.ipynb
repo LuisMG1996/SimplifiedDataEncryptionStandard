{
 "cells": [
  {
   "cell_type": "markdown",
   "metadata": {},
   "source": [
    "# S-DES ALGORITHM\n"
   ]
  },
  {
   "cell_type": "code",
   "execution_count": 9,
   "metadata": {},
   "outputs": [
    {
     "name": "stdout",
     "output_type": "stream",
     "text": [
      "0123456789\n",
      "1010000010\n",
      "2416390875\n",
      "['1', '0', '0', '0', '0', '0', '1', '1', '0', '0']\n"
     ]
    }
   ],
   "source": [
    "def p10(key):\n",
    "    res = []\n",
    "    index = [2,4,1,6,3,9,0,8,7,5]\n",
    "    for j in index:\n",
    "        res.append(key[j])\n",
    "    return res\n",
    "\n",
    "data=\"1010000010\"\n",
    "print(\"0123456789\")\n",
    "print(data)\n",
    "print(\"2416390875\")\n",
    "print(p10(data))\n",
    "    "
   ]
  },
  {
   "cell_type": "code",
   "execution_count": null,
   "metadata": {},
   "outputs": [],
   "source": []
  }
 ],
 "metadata": {
  "kernelspec": {
   "display_name": "Python 3",
   "language": "python",
   "name": "python3"
  },
  "language_info": {
   "codemirror_mode": {
    "name": "ipython",
    "version": 3
   },
   "file_extension": ".py",
   "mimetype": "text/x-python",
   "name": "python",
   "nbconvert_exporter": "python",
   "pygments_lexer": "ipython3",
   "version": "3.7.1"
  }
 },
 "nbformat": 4,
 "nbformat_minor": 2
}
