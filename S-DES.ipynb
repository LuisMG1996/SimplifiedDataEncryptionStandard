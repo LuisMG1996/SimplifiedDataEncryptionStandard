{
 "cells": [
  {
   "cell_type": "markdown",
   "metadata": {},
   "source": [
    "# S-DES ALGORITHM\n"
   ]
  },
  {
   "cell_type": "markdown",
   "metadata": {},
   "source": [
    "<h2 style='background-color:yellow';>Key Generation</h2>"
   ]
  },
  {
   "cell_type": "code",
   "execution_count": 6,
   "metadata": {},
   "outputs": [
    {
     "data": {
      "text/plain": [
       "[['1', '0', '1', '0', '0', '1', '0', '0'],\n",
       " ['0', '1', '0', '0', '0', '0', '1', '1']]"
      ]
     },
     "execution_count": 6,
     "metadata": {},
     "output_type": "execute_result"
    }
   ],
   "source": [
    "def p10(data):\n",
    "    res = []\n",
    "    index = [2,4,1,6,3,9,0,8,7,5]\n",
    "    for j in index:\n",
    "        res.append(data[j])\n",
    "    return res\n",
    "#End p10 function\n",
    "#----------------------------  \n",
    "#function to switch an array n times to the left\n",
    "def leftSwitch(data,n):\n",
    "    return data[n % len(data):] + data[:n % len(data)]\n",
    "#End leftSwitch function\n",
    "#----------------------------  \n",
    "def p8(data):\n",
    "    res = []\n",
    "    index = [5,2,6,3,7,4,9,8]\n",
    "    for j in index:\n",
    "        res.append(data[j])\n",
    "    return res\n",
    "#End p8 function\n",
    "#----------------------------  \n",
    "def keyGeneration(originalData):\n",
    "    \n",
    "    #P10 step is applied to data\n",
    "    data = p10(originalData)\n",
    "    \n",
    "    #after P10 the resulting data is splited in two subarrays \n",
    "    #each array is switched one time to left in order to get LS-1\n",
    "    leftSide = leftSwitch(data[:5],1)\n",
    "    rightSide = leftSwitch(data[5:],1)\n",
    "    \n",
    "    #Resulting arrays needs to be concatenate in order to apply them P8 ang get K1\n",
    "    data = leftSide + rightSide\n",
    "    k1 = p8(data)\n",
    "    \n",
    "    #The first two halfs needs to be switched again in order to aplly again P8 and return K2\n",
    "    leftSide = leftSwitch(leftSide,2)\n",
    "    rightSide = leftSwitch(rightSide,2)\n",
    "    \n",
    "    #The p8 is applied to the join of both halfs\n",
    "    k2 = p8(leftSide+rightSide)\n",
    "    #Finally return k1 and k2\n",
    "    return [k1,k2]\n",
    "#End keyGeneration function    \n",
    "#----------------------------   \n",
    "keyGeneration(\"1010000010\")"
   ]
  },
  {
   "cell_type": "markdown",
   "metadata": {},
   "source": [
    "<h2 style='background-color:yellow';>Encryption</h2>"
   ]
  },
  {
   "cell_type": "code",
   "execution_count": 17,
   "metadata": {},
   "outputs": [],
   "source": [
    "#Initial Permutation function\n",
    "def IP(plainText):\n",
    "    permutaded = []\n",
    "    \n",
    "    permutaded.append( plainText[1] )\n",
    "    permutaded.append( plainText[5] )\n",
    "    permutaded.append( plainText[2] )\n",
    "    permutaded.append( plainText[0] )\n",
    "    permutaded.append( plainText[3] )\n",
    "    permutaded.append( plainText[7] )\n",
    "    permutaded.append( plainText[4] )\n",
    "    permutaded.append( plainText[6] )\n",
    "    \n",
    "    return permutaded\n",
    "    \n",
    "#End Initial permutation function\n",
    "#---------------------------- \n",
    "#Inverse Initial Permutation function\n",
    "def InverseIP(input):\n",
    "    permutaded = []\n",
    "    \n",
    "    permutaded.append( plainText[3] )\n",
    "    permutaded.append( plainText[0] )\n",
    "    permutaded.append( plainText[2] )\n",
    "    permutaded.append( plainText[4] )\n",
    "    permutaded.append( plainText[6] )\n",
    "    permutaded.append( plainText[1] )\n",
    "    permutaded.append( plainText[7] )\n",
    "    permutaded.append( plainText[5] )\n",
    "    \n",
    "    return permutaded\n",
    "#End Initial permutation function\n",
    "#----------------------------   \n",
    "#Function tahat involves permutation and substitution operations.\n",
    "#Permutation: Switch the 2 halves of data\n",
    "#Substitution: \n",
    "#def complexFunction(key):\n",
    "\n",
    "#End complexFunction\n",
    "#---------------------------- "
   ]
  },
  {
   "cell_type": "markdown",
   "metadata": {},
   "source": [
    "<p>Input Plain text of 8 bits of length</p>"
   ]
  },
  {
   "cell_type": "code",
   "execution_count": 12,
   "metadata": {},
   "outputs": [],
   "source": [
    "inputPlainText = \"01010101\""
   ]
  },
  {
   "cell_type": "markdown",
   "metadata": {},
   "source": [
    "<p>1) Initial permutation</p>"
   ]
  },
  {
   "cell_type": "code",
   "execution_count": 15,
   "metadata": {},
   "outputs": [
    {
     "data": {
      "text/plain": [
       "['1', '1', '0', '0', '1', '1', '0', '0']"
      ]
     },
     "execution_count": 15,
     "metadata": {},
     "output_type": "execute_result"
    }
   ],
   "source": [
    "IP(inputPlainText)"
   ]
  },
  {
   "cell_type": "markdown",
   "metadata": {},
   "source": [
    "<p>2) F function</p>"
   ]
  },
  {
   "cell_type": "code",
   "execution_count": null,
   "metadata": {},
   "outputs": [],
   "source": []
  },
  {
   "cell_type": "code",
   "execution_count": null,
   "metadata": {},
   "outputs": [],
   "source": []
  }
 ],
 "metadata": {
  "kernelspec": {
   "display_name": "Python 3",
   "language": "python",
   "name": "python3"
  },
  "language_info": {
   "codemirror_mode": {
    "name": "ipython",
    "version": 3
   },
   "file_extension": ".py",
   "mimetype": "text/x-python",
   "name": "python",
   "nbconvert_exporter": "python",
   "pygments_lexer": "ipython3",
   "version": "3.7.1"
  }
 },
 "nbformat": 4,
 "nbformat_minor": 2
}
