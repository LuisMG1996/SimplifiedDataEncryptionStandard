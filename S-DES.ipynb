{
 "cells": [
  {
   "cell_type": "markdown",
   "metadata": {},
   "source": [
    "# S-DES ALGORITHM\n"
   ]
  },
  {
   "cell_type": "code",
   "execution_count": 48,
   "metadata": {},
   "outputs": [
    {
     "name": "stdout",
     "output_type": "stream",
     "text": [
      "['0', '0', '0', '0', '1']\n",
      "['1', '1', '0', '0', '0']\n",
      "['1', '0', '1', '0', '0', '1', '0', '0']\n",
      "['0', '0', '1', '0', '0']\n",
      "['0', '0', '0', '1', '1']\n",
      "['0', '1', '0', '0', '0', '0', '1', '1']\n"
     ]
    }
   ],
   "source": [
    "def p10(data):\n",
    "    res = []\n",
    "    index = [2,4,1,6,3,9,0,8,7,5]\n",
    "    for j in index:\n",
    "        res.append(data[j])\n",
    "    return res\n",
    "\n",
    "#function to switch an array n times to the left\n",
    "def leftSwitch(data,n):\n",
    "    return data[n % len(data):] + data[:n % len(data)]\n",
    "\n",
    "def p8(data):\n",
    "    res = []\n",
    "    index = [5,2,6,3,7,4,9,8]\n",
    "    for j in index:\n",
    "        res.append(data[j])\n",
    "    return res\n",
    "\n",
    "\n",
    "def keyGeneration(originalData):\n",
    "    \n",
    "    #P10 step is applied to data\n",
    "    data = p10(originalData)\n",
    "    \n",
    "    #after P10 the resulting data is splited in two subarrays \n",
    "    #each array is switched one time to left in order to get LS-1\n",
    "    leftSide = leftSwitch(data[:5],1)\n",
    "    rightSide = leftSwitch(data[5:],1)\n",
    "    \n",
    "    #Resulting arrays needs to be concatenate in order to apply them P8 ang get K1\n",
    "    data = leftSide + rightSide\n",
    "    k1 = p8(data)\n",
    "    \n",
    "    #The first two halfs needs to be switched again in order to aplly again P8 and return K2\n",
    "    leftSide = leftSwitch(leftSide,2)\n",
    "    rightSide = leftSwitch(rightSide,2)\n",
    "    \n",
    "    #The p8 is applied to the join of both halfs\n",
    "    k2 = p8(leftSide+rightSide)\n",
    "    #Finally return k1 and k2\n",
    "    return [k1,k2]\n",
    "    \n",
    "    \n",
    "    \n",
    "    \n",
    "    \n",
    "\n",
    "keyGeneration(\"1010000010\")"
   ]
  },
  {
   "cell_type": "code",
   "execution_count": null,
   "metadata": {},
   "outputs": [],
   "source": [
    "['0', '0', '0', '0', '1'] ['1', '1', '0', '0', '0']"
   ]
  }
 ],
 "metadata": {
  "kernelspec": {
   "display_name": "Python 3",
   "language": "python",
   "name": "python3"
  },
  "language_info": {
   "codemirror_mode": {
    "name": "ipython",
    "version": 3
   },
   "file_extension": ".py",
   "mimetype": "text/x-python",
   "name": "python",
   "nbconvert_exporter": "python",
   "pygments_lexer": "ipython3",
   "version": "3.7.1"
  }
 },
 "nbformat": 4,
 "nbformat_minor": 2
}
